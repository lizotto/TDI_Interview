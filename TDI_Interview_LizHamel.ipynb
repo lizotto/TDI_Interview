{
 "cells": [
  {
   "cell_type": "code",
   "execution_count": 82,
   "metadata": {
    "collapsed": true,
    "deletable": true,
    "editable": true
   },
   "outputs": [],
   "source": [
    "import numpy as np\n",
    "import pylab as plt\n",
    "from scipy import stats\n",
    "%matplotlib inline"
   ]
  },
  {
   "cell_type": "markdown",
   "metadata": {
    "deletable": true,
    "editable": true
   },
   "source": [
    "# Statistical Inference"
   ]
  },
  {
   "cell_type": "markdown",
   "metadata": {
    "deletable": true,
    "editable": true
   },
   "source": [
    "Statistical inference is the process of drawing conclusions about populations or scientific truths from data."
   ]
  },
  {
   "cell_type": "markdown",
   "metadata": {
    "deletable": true,
    "editable": true
   },
   "source": [
    "## Part 1: Hypothesis Testing"
   ]
  },
  {
   "cell_type": "markdown",
   "metadata": {
    "deletable": true,
    "editable": true
   },
   "source": [
    "### The Problem"
   ]
  },
  {
   "cell_type": "markdown",
   "metadata": {
    "deletable": true,
    "editable": true
   },
   "source": [
    "A common goal in experiments is to learn something about a random variable. As you know, a random variable is a variable whose possible values are numerical outcomes of a random phenomenon. For example, say someone comes up to you and says, \"You're tall!\" But are you \"tall\"? How tall are you for man/woman of your ethnic background? Let's say we want to know about the distribution of heights of American women. "
   ]
  },
  {
   "cell_type": "markdown",
   "metadata": {
    "deletable": true,
    "editable": true
   },
   "source": [
    "A common strategy to learn something about average height is to take a sample from that random variable and try to **infer** something about the underlying distribution."
   ]
  },
  {
   "cell_type": "markdown",
   "metadata": {
    "deletable": true,
    "editable": true
   },
   "source": [
    "Let's say the true distribution of heights of American women is normal with mean 64 inches and standard deviation 2.4 inches:"
   ]
  },
  {
   "cell_type": "code",
   "execution_count": 52,
   "metadata": {
    "collapsed": true,
    "deletable": true,
    "editable": true
   },
   "outputs": [],
   "source": [
    "mu, sigma = 64, 2.4 # mean and standard deviation in inches"
   ]
  },
  {
   "cell_type": "markdown",
   "metadata": {
    "deletable": true,
    "editable": true
   },
   "source": [
    "### The T-test"
   ]
  },
  {
   "cell_type": "markdown",
   "metadata": {
    "deletable": true,
    "editable": true
   },
   "source": [
    "Let's say we randomly choose 10 American women, and we measure their heights. We get the following values: "
   ]
  },
  {
   "cell_type": "code",
   "execution_count": 53,
   "metadata": {
    "collapsed": false,
    "deletable": true,
    "editable": true
   },
   "outputs": [
    {
     "name": "stdout",
     "output_type": "stream",
     "text": [
      "[ 62.61832367  63.57453415  66.82118346  63.80514634  64.53824096\n",
      "  68.52297263  61.02315401  60.12299855  62.59935152  63.75100833]\n"
     ]
    }
   ],
   "source": [
    "sample = np.random.normal(mu, sigma, 10)\n",
    "print(sample)"
   ]
  },
  {
   "cell_type": "markdown",
   "metadata": {
    "deletable": true,
    "editable": true
   },
   "source": [
    "It's easy to calculate the mean of these values:"
   ]
  },
  {
   "cell_type": "code",
   "execution_count": 54,
   "metadata": {
    "collapsed": false,
    "deletable": true,
    "editable": true
   },
   "outputs": [
    {
     "data": {
      "text/plain": [
       "63.737691361773827"
      ]
     },
     "execution_count": 54,
     "metadata": {},
     "output_type": "execute_result"
    }
   ],
   "source": [
    "sample.mean()"
   ]
  },
  {
   "cell_type": "markdown",
   "metadata": {
    "deletable": true,
    "editable": true
   },
   "source": [
    "But with sampling, you're going to have fluctuations. How do we know whether this sample is \"representative\" of the underlying distribution, or an outlier that we only got by random chance? Well, ideally we would know something about the distribution of samples. Since we can simulate sampling, let's see what would happen if we kept on drawing samples and calculating their means."
   ]
  },
  {
   "cell_type": "code",
   "execution_count": 55,
   "metadata": {
    "collapsed": false,
    "deletable": true,
    "editable": true
   },
   "outputs": [
    {
     "data": {
      "image/png": "[encoded data removed]",
      "text/plain": [
       "<matplotlib.figure.Figure at 0x7f84c38eb050>"
      ]
     },
     "metadata": {},
     "output_type": "display_data"
    }
   ],
   "source": [
    "numIts = 1000\n",
    "sample_size = 10\n",
    "means = []\n",
    "for iteration in range(numIts):\n",
    "    sample = np.random.normal(mu, sigma, sample_size)\n",
    "    means.append(sample.mean())\n",
    "\n",
    "plt.hist(means, bins='auto', normed=True)\n",
    "plt.show()"
   ]
  },
  {
   "cell_type": "code",
   "execution_count": 58,
   "metadata": {
    "collapsed": false,
    "deletable": true,
    "editable": true,
    "scrolled": false
   },
   "outputs": [
    {
     "data": {
      "image/png": "[encoded data removed]",
      "text/plain": [
       "<matplotlib.figure.Figure at 0x7f84c3436a90>"
      ]
     },
     "metadata": {},
     "output_type": "display_data"
    }
   ],
   "source": [
    "numIts = 10000\n",
    "sample_size = 10\n",
    "means = []\n",
    "for iteration in range(numIts):\n",
    "    sample = np.random.normal(mu, sigma, sample_size)\n",
    "    means.append(sample.mean())\n",
    "\n",
    "plt.hist(means, bins='auto', normed=True)\n",
    "\n",
    "z = np.arange(60,68,.2)\n",
    "plt.plot(z, stats.norm.pdf(z, mu, sigma/np.sqrt(sample_size)))\n",
    "plt.show()"
   ]
  },
  {
   "cell_type": "markdown",
   "metadata": {
    "deletable": true,
    "editable": true
   },
   "source": [
    "From this we can see that if we take a sample from a normally distributed population, subtract the population mean and divide by the population standard deviation (scaled by $\\sqrt{n}$!), we get a normal distribution. We say that the **test statistic** $\\frac{\\bar{X} - \\mu}{\\sigma / \\sqrt{n}}$ is normally distributed."
   ]
  },
  {
   "cell_type": "code",
   "execution_count": 59,
   "metadata": {
    "collapsed": false,
    "deletable": true,
    "editable": true
   },
   "outputs": [
    {
     "data": {
      "image/png": "[encoded data removed]",
      "text/plain": [
       "<matplotlib.figure.Figure at 0x7f84c33f6450>"
      ]
     },
     "metadata": {},
     "output_type": "display_data"
    }
   ],
   "source": [
    "numIts = 10000\n",
    "sample_size = 10\n",
    "nstat = []\n",
    "for iteration in range(numIts):\n",
    "    sample = np.random.normal(mu, sigma, sample_size)\n",
    "    nstat.append((sample.mean()-mu)/sigma*np.sqrt(sample_size))\n",
    "\n",
    "plt.hist(nstat, bins='auto', normed=True)\n",
    "\n",
    "z = np.arange(-4,4,.2)\n",
    "plt.plot(z, stats.norm.pdf(z, 0, 1))\n",
    "plt.show()"
   ]
  },
  {
   "cell_type": "markdown",
   "metadata": {
    "deletable": true,
    "editable": true
   },
   "source": [
    "Ok, great. But say we can't take 10,000 samples, we can only take 1. Let's say we take one sample of $n = 10$ data points, and we get these values:"
   ]
  },
  {
   "cell_type": "code",
   "execution_count": 68,
   "metadata": {
    "collapsed": false,
    "deletable": true,
    "editable": true
   },
   "outputs": [
    {
     "name": "stdout",
     "output_type": "stream",
     "text": [
      "[ 65.19289312  64.39203979  64.24465191  68.72814101  64.63940843\n",
      "  64.50023969  61.64189186  67.19334992  68.48857214  68.41098431]\n"
     ]
    }
   ],
   "source": [
    "sample = np.array([65.19289312, 64.39203979, 64.24465191, 68.72814101, 64.63940843, 64.50023969, 61.64189186, 67.19334992, 68.48857214, 68.41098431])\n",
    "print(sample)"
   ]
  },
  {
   "cell_type": "markdown",
   "metadata": {
    "deletable": true,
    "editable": true
   },
   "source": [
    "with this mean:"
   ]
  },
  {
   "cell_type": "code",
   "execution_count": 69,
   "metadata": {
    "collapsed": false,
    "deletable": true,
    "editable": true
   },
   "outputs": [
    {
     "data": {
      "text/plain": [
       "65.743217217999998"
      ]
     },
     "execution_count": 69,
     "metadata": {},
     "output_type": "execute_result"
    }
   ],
   "source": [
    "sample.mean()"
   ]
  },
  {
   "cell_type": "markdown",
   "metadata": {
    "deletable": true,
    "editable": true
   },
   "source": [
    "Let's say we think that the population mean is 64. But this sample mean is greater than 64. Is this enough evidence to say that the population mean is not 64? We'd like a way to quantify this. We just learned that the test statistic $\\frac{\\bar{X} - \\mu}{\\sigma / \\sqrt{n}}$ is normally distributed, so if we could calculate that quantity, we could use the normal distribution to calculate the probability of getting a sample mean of 65.74 or greater if the true mean is 64. That probability would be the **p-value**. However, calculating that test statistic requires that we know $\\sigma$, the population standard deviation. But generally, we don't know it."
   ]
  },
  {
   "cell_type": "markdown",
   "metadata": {
    "deletable": true,
    "editable": true
   },
   "source": [
    "What do we do? Well, we have some other knowledge. It turns out that a different test statistic, $\\frac{\\bar{X} - \\mu}{S / \\sqrt{n}}$, where $S = \\sqrt{\\frac{1}{n-1} \\sum{(X-\\bar{X})^2}}$ is the **sample standard deviation** also has a known distribution. That would be the **t-distribution**."
   ]
  },
  {
   "cell_type": "code",
   "execution_count": 62,
   "metadata": {
    "collapsed": false,
    "deletable": true,
    "editable": true,
    "scrolled": true
   },
   "outputs": [
    {
     "data": {
      "image/png": "[encoded data removed]",
      "text/plain": [
       "<matplotlib.figure.Figure at 0x7f84c33e7cd0>"
      ]
     },
     "metadata": {},
     "output_type": "display_data"
    }
   ],
   "source": [
    "numIts = 1000\n",
    "sample_size = 4\n",
    "tstat = []\n",
    "for iteration in range(numIts):\n",
    "    sample = np.random.normal(mu, sigma, sample_size)\n",
    "    tstat.append((sample.mean()-mu)/np.std(sample, ddof=1)*np.sqrt(sample_size))\n",
    "\n",
    "plt.hist(tstat, bins='auto', normed=True)\n",
    "plt.show()"
   ]
  },
  {
   "cell_type": "code",
   "execution_count": 64,
   "metadata": {
    "collapsed": false,
    "deletable": true,
    "editable": true,
    "scrolled": true
   },
   "outputs": [
    {
     "data": {
      "image/png": "[encoded data removed]",
      "text/plain": [
       "<matplotlib.figure.Figure at 0x7f84c34bf990>"
      ]
     },
     "metadata": {},
     "output_type": "display_data"
    }
   ],
   "source": [
    "numIts = 1000\n",
    "sample_size = 4\n",
    "\n",
    "tstat = []\n",
    "for iteration in range(numIts):\n",
    "    sample = np.random.normal(mu, sigma, sample_size)\n",
    "    tstat.append((sample.mean()-mu)/np.std(sample, ddof=1)*np.sqrt(sample_size))\n",
    "\n",
    "plt.hist(tstat, bins='auto', normed=True)\n",
    "\n",
    "z = np.arange(-10,10,.2)\n",
    "plt.plot(z, stats.t.pdf(z, sample_size-1))\n",
    "plt.plot(z, stats.norm.pdf(z, 0, 1)) # the normal, for comparison\n",
    "plt.show()"
   ]
  },
  {
   "cell_type": "markdown",
   "metadata": {
    "deletable": true,
    "editable": true
   },
   "source": [
    "The normal distribution and the t-distribution are similar, but the t-distribution has fatter tails. It is also goverened by a parameter, $\\nu$. If you are using samples of size $n$ to estimate the population mean, the distribution of the test statistic $\\frac{\\bar{X} - \\mu}{S / \\sqrt{n}}$ follows a t-distribution with $\\nu = n-1$. As $\\nu \\to \\infty$, the t-distribution approaches a normal distribution, so a good rule of thumb for when to use the t-distribution is when $n < 20-50$."
   ]
  },
  {
   "cell_type": "code",
   "execution_count": 65,
   "metadata": {
    "collapsed": false,
    "deletable": true,
    "editable": true
   },
   "outputs": [
    {
     "data": {
      "image/png": "[encoded data removed]",
      "text/plain": [
       "<matplotlib.figure.Figure at 0x7f84c2fb05d0>"
      ]
     },
     "metadata": {},
     "output_type": "display_data"
    }
   ],
   "source": [
    "# Below we plot the normal and t distributions\n",
    "\n",
    "z = np.arange(-4,4,.05)\n",
    "plt.plot(z, stats.norm.pdf(z), label=\"Normal\")\n",
    "plt.plot(z, stats.t.pdf(z, 1), label=\"T with \\nu=1\")\n",
    "plt.plot(z, stats.t.pdf(z, 10), label=\"T with \\nu=10\")\n",
    "plt.xlabel(\"z\")\n",
    "plt.ylabel(\"pdf\")\n",
    "plt.title(\"Plot of Normal versus T Distributions\")\n",
    "plt.legend()\n",
    "plt.show()"
   ]
  },
  {
   "cell_type": "markdown",
   "metadata": {
    "deletable": true,
    "editable": true
   },
   "source": [
    "So the way we determine how good our evidence is that the population mean is not actually 64 is to calculate the probability of observing a sample mean of 65.74 or greater under the t-distribution with $\\nu = 10-1 = 9$."
   ]
  },
  {
   "cell_type": "code",
   "execution_count": 71,
   "metadata": {
    "collapsed": false,
    "deletable": true,
    "editable": true
   },
   "outputs": [
    {
     "name": "stdout",
     "output_type": "stream",
     "text": [
      "P-Statistic for true mean 0.0434764629991\n"
     ]
    }
   ],
   "source": [
    "sample = np.array([65.19289312, 64.39203979, 64.24465191, 68.72814101, 64.63940843, 64.50023969, 61.64189186, 67.19334992, 68.48857214, 68.41098431])\n",
    "print \"P-Statistic for true mean\", stats.ttest_1samp(sample, 64.)[1]"
   ]
  },
  {
   "cell_type": "markdown",
   "metadata": {
    "deletable": true,
    "editable": true
   },
   "source": [
    "We see that the number is pretty small, so this means that it's not very likely that we would randomly sample this random variable and get the sample we got if the population mean is 64. Out of 100 iterations, we'd get a test statistic this extreme or more extreme about 4 times. We might conclude that this is enough evidence to say that the true population mean is probably not 64."
   ]
  },
  {
   "cell_type": "markdown",
   "metadata": {},
   "source": [
    "For a two-sample t-test, which is the case you might see most often in practice, you calculate a slightly different statistic. Instead of the difference between the sample mean and your hypothesized mean, you would use the difference between the two sample means as the numerator, and test whether that is different from zero. In the denominator, you use slightly different expressions depending upon whether 1) the sample variances are assumed to be equal or 2) the sample variances are not assumed to be equal (which is called Welch's t-test)."
   ]
  },
  {
   "cell_type": "markdown",
   "metadata": {
    "deletable": true,
    "editable": true
   },
   "source": [
    "### Relation to precision and recall"
   ]
  },
  {
   "cell_type": "markdown",
   "metadata": {
    "deletable": true,
    "editable": true
   },
   "source": [
    "How do we decide whether this is enough evidence? Well we might set some rules, for example, we might say that if the p-value is less than 0.05, we're going to say that the true mean is not 64. What we're implicitly doing when we set that rule is saying that 5 times out of 100, we're going to say the true mean is not 64 or \"reject the null hypothesis\" even though it is true. So we're basically accepting a false positive (Type I) error rate of 5% for this test.\n",
    "\n",
    "The false negative (Type II) error rate is $\\beta$. $\\beta$ = 1 - power. Power = Pr( Reject $H_0$ | $H_1$ is true), or the probability of correctly rejecting the null hypothesis. Intuitively, power increases the farther the true mean is from the hypothesized mean and as the sample size increases. "
   ]
  },
  {
   "cell_type": "markdown",
   "metadata": {},
   "source": [
    "### Recap: Assumptions of the t-test"
   ]
  },
  {
   "cell_type": "markdown",
   "metadata": {},
   "source": [
    "Although the parent population does not need to be normally distributed, the distribution of the population of sample means, $\\bar{x}$, is assumed to be normal. By the central limit theorem, if the sampling of the parent population is independent and the first moment of the parent population exists then the sample means will be approximately normally distributed.\n",
    "\n",
    "An important assumption is that your sample observations are independent and identically distributed, and randomly drawn from the population you want to make inferences about."
   ]
  },
  {
   "cell_type": "markdown",
   "metadata": {
    "deletable": true,
    "editable": true
   },
   "source": [
    "## Part 2: Bayesian posterior inference"
   ]
  },
  {
   "cell_type": "markdown",
   "metadata": {
    "deletable": true,
    "editable": true
   },
   "source": [
    "### Bayes' Rule"
   ]
  },
  {
   "cell_type": "markdown",
   "metadata": {
    "deletable": true,
    "editable": true
   },
   "source": [
    "Recall the definition of conditional probability:\n",
    "\n",
    "$$P(A \\mid B) = \\frac{P(B \\cap A)}{P(B)}$$\n",
    "\n",
    "This leads in a straightforward manner to Bayes' Rule:\n",
    "\n",
    "$$P(A \\mid B) = \\frac{P(B \\mid A) \\, P(A)}{P(B)}  $$\n",
    "\n",
    "We can re-interpret the events in Bayes' formula to allow us to make inferences about hypotheses. In this case, $P(A)$ is called the prior, our previous knowledge of the probability of $A$ happening. $P(B \\mid A)$ is called the likelihood, or the likelihood of observing $B$ given $A$. $P(A \\mid B)$, our quantity of interest, is the posterior, the likelihood of observing $A$ given $B$. $P(B)$ is the overall probability of observing $B$, which can usually be calculated by conditioning on $A$ and $A^C$ (**not** A). "
   ]
  },
  {
   "cell_type": "markdown",
   "metadata": {
    "collapsed": true,
    "deletable": true,
    "editable": true
   },
   "source": [
    "Here's an example: Let's say you have two coins in your pocket, a normal coin and a coin that has heads on both faces. You randomly draw a coin from your pocket and flip it 5 times. You get 5 heads. What's the probability that you drew the coin with two heads?"
   ]
  },
  {
   "cell_type": "code",
   "execution_count": 72,
   "metadata": {
    "collapsed": false
   },
   "outputs": [],
   "source": [
    "prior = 0.5\n",
    "\n",
    "# The probability of flipping 5 heads if you get the two-headed coin is 1\n",
    "p_5heads_biased_coin = 1.0\n",
    "\n",
    "# The total probability of flipping 5 heads is the probability of flipping 5 heads with the two-headed coin\n",
    "# plus the probability of flipping 5 heads with the ordinary coin \n",
    "p_5heads_ordinary_coin = (0.5)**5\n",
    "p_5heads = prior*p_5heads_biased_coin + (1-prior)*p_5heads_ordinary_coin\n",
    "\n",
    "# The final result:\n",
    "posterior = 1*0.5/(0.5+0.5**6)\n",
    "posterior = 32/33"
   ]
  },
  {
   "cell_type": "markdown",
   "metadata": {
    "deletable": true,
    "editable": true
   },
   "source": [
    "### Inference for models"
   ]
  },
  {
   "cell_type": "markdown",
   "metadata": {
    "deletable": true,
    "editable": true
   },
   "source": [
    "In general, we may have a model of a phenomenon and some knowledge of a parameter for that model, $\\theta$. We would like to refine our model of $\\theta$ by taking data, $x$. Using Bayes' theorem, we can update our knowledge of $\\theta$ using $x$ as follows.\n",
    "\n",
    "From Bayes' theorem, the posterior distribution is equal to the product of the likelihood function $\\theta \\mapsto p(x\\mid \\theta )$ and prior $p(\\theta )$, normalized (divided) by the probability of the data $p(x)$:"
   ]
  },
  {
   "cell_type": "markdown",
   "metadata": {
    "deletable": true,
    "editable": true
   },
   "source": [
    "$$p(\\theta \\mid x)={\\frac {p(x\\mid \\theta )\\,p(\\theta )}{\\int p(x\\mid \\theta ')\\,p(\\theta ')\\,d\\theta '}}$$"
   ]
  },
  {
   "cell_type": "markdown",
   "metadata": {},
   "source": [
    "As an example, let's return to our previous problem of estimating the distribution of heights of American women. Let's say that based on some data we gathered previously, we think that the mean of the distribution is $\\mu_0 = 64$ inches and the standard deviation is $\\sigma_0 = 2.4$ inches. But then we take some new measurements, and we get the following sample:"
   ]
  },
  {
   "cell_type": "code",
   "execution_count": 73,
   "metadata": {
    "collapsed": false
   },
   "outputs": [
    {
     "name": "stdout",
     "output_type": "stream",
     "text": [
      "[ 65.29665921  65.12876702  65.8136564   65.75963542  67.29749554\n",
      "  70.0337861   66.80533465  65.07694206  64.91765149  62.83899696]\n",
      "Sample mean: 65.8968924856\n"
     ]
    }
   ],
   "source": [
    "sample = np.random.normal(66, 2.4, 10)\n",
    "print(sample)\n",
    "print('Sample mean: {0}'.format(sample.mean()))"
   ]
  },
  {
   "cell_type": "code",
   "execution_count": 74,
   "metadata": {
    "collapsed": false
   },
   "outputs": [
    {
     "data": {
      "text/plain": [
       "<matplotlib.text.Text at 0x7f84c38f0e50>"
      ]
     },
     "execution_count": 74,
     "metadata": {},
     "output_type": "execute_result"
    },
    {
     "data": {
      "image/png": "[encoded data removed]",
      "text/plain": [
       "<matplotlib.figure.Figure at 0x7f84c2fbd990>"
      ]
     },
     "metadata": {},
     "output_type": "display_data"
    }
   ],
   "source": [
    "pyplot.hist(sample, bins='auto', normed=True)\n",
    "pyplot.xlabel('heights (inches)')\n",
    "pyplot.ylabel('probability')"
   ]
  },
  {
   "cell_type": "markdown",
   "metadata": {},
   "source": [
    "How should we update our belief about the distribution of heights to reflect these gathered data?"
   ]
  },
  {
   "cell_type": "markdown",
   "metadata": {
    "deletable": true,
    "editable": true
   },
   "source": [
    "### Analytical solution"
   ]
  },
  {
   "cell_type": "markdown",
   "metadata": {},
   "source": [
    "In general, the posterior distribution can be hard to calculate, in particular when the integral in the denominator is hard to do. In some situations, the posterior distribution $p(\\theta \\mid x)$ is in the same functional family as the prior distribution, $p(\\theta)$. In this case, the posterior and prior are called **conjugate distributions** and the prior is called a **conjugate prior** to the likelihood function $p(x \\mid \\theta)$. For example, for a normally-distributed likelihood function with known variance, the conjugate prior is also a normal distribution (so the posterior is also normally distributed). A list of other conjugate prior pairs can be found [here](https://en.wikipedia.org/wiki/Conjugate_prior)."
   ]
  },
  {
   "cell_type": "markdown",
   "metadata": {},
   "source": [
    "For a normally-distributed likelihood function with standard deviation $\\sigma$, and a normally-distributed prior with mean $\\mu_0$ and standard deviation $\\sigma_0$, the posterior distribution is a normal distribution with mean,\n",
    "\n",
    "$$\\frac{\\frac{\\mu_0}{\\sigma_0^2} + \\frac{\\sum{x_i}}{\\sigma^2}}{\\frac{1}{\\sigma_0^2}+\\frac{n}{\\sigma^2}}$$\n",
    "\n",
    "and standard deviation,\n",
    "\n",
    "$$\\sqrt{\\frac{1}{\\frac{1}{\\sigma_0^2} + \\frac{n}{\\sigma^2}}}$$\n",
    "\n",
    "So let's calculate the posterior!"
   ]
  },
  {
   "cell_type": "code",
   "execution_count": 75,
   "metadata": {
    "collapsed": false
   },
   "outputs": [
    {
     "name": "stdout",
     "output_type": "stream",
     "text": [
      "Posterior mean: 65.7244477142\n",
      "Posterior standard deviation: 0.723627226987\n"
     ]
    },
    {
     "data": {
      "image/png": "[encoded data removed]",
      "text/plain": [
       "<matplotlib.figure.Figure at 0x7f84c2d14350>"
      ]
     },
     "metadata": {},
     "output_type": "display_data"
    }
   ],
   "source": [
    "from scipy.stats import norm\n",
    "\n",
    "def calc_posterior(data, x, mu_0, sigma_0):\n",
    "    sigma = 2.4\n",
    "    n = len(data)\n",
    "    mu_post = (mu_0 / sigma_0**2 + data.sum() / sigma**2) / (1. / sigma_0**2 + n / sigma**2)\n",
    "    sigma_post = np.sqrt((1. / sigma_0**2 + n / sigma**2)**-1)\n",
    "    return norm(mu_post, sigma_post).pdf(x), mu_post, sigma_post\n",
    "\n",
    "x = np.linspace(60, 68, 100)\n",
    "posterior, posterior_mu, posterior_sigma = calc_posterior(sample, x, 64., 2.4)\n",
    "plt.plot(x,posterior)\n",
    "plt.xlabel('heights (inches)')\n",
    "plt.ylabel('probability')\n",
    "print('Posterior mean: {0}'.format(posterior_mu))\n",
    "print('Posterior standard deviation: {0}'.format(posterior_sigma))"
   ]
  },
  {
   "cell_type": "markdown",
   "metadata": {},
   "source": [
    "Intuitively, we can see that our new knowledge shifted our expectation about the prior from a mean at 64 to a mean closer to 66. "
   ]
  },
  {
   "cell_type": "markdown",
   "metadata": {
    "deletable": true,
    "editable": true
   },
   "source": [
    "### Simulated solution"
   ]
  },
  {
   "cell_type": "markdown",
   "metadata": {},
   "source": [
    "Another possibility for generating a posterior distribution is via numerical approximation. In the following, we will generate a posterior distribution for heights using what is known as **Markov Chain Monte Carlo** or **MCMC** sampling. "
   ]
  },
  {
   "cell_type": "markdown",
   "metadata": {},
   "source": [
    "#### Markov Chain Monte Carlo (MCMC) sampling:\n",
    "\n",
    "Our goal is to sample the posterior distribution without knowing it exactly. We want to generate a histogram that will approximate the distribution. Intuitively, we expect to generate more samples in regions where the distribution has larger values. \n",
    "\n",
    "We will be using one type of MCMC algorithm, the Metropolis algorithm. The Metropolis algorithm can draw samples from any probability distribution P(x), provided you can compute the value of a function $f(x)$ that is **proportional** to the density of $P(x)$. In our case, that would be the likelihood times the prior: $p(x\\mid \\theta )\\,p(\\theta )$.\n",
    "\n",
    "The Metropolis algorithm works by generating a sequence of sample values in such a way that the histogram of values approximates the desired distribution, $P(\\theta \\mid x)$. These sample values are produced iteratively, with the distribution of the next sample being dependent only on the current sample value (thus making the sequence of samples into a Markov chain). \n",
    "\n",
    "Specifically, at each iteration, the algorithm picks a candidate for the next sample value based on the current sample value. Then, with some probability, the candidate is either accepted (in which case the candidate value is used in the next iteration) or rejected (in which case the candidate value is discarded, and current value is reused in the next iteration)−the probability of acceptance is determined by comparing $p(x \\mid \\theta_{current} )\\,p(\\theta_{current} )$ with $p(x \\mid \\theta_{candidate} )\\,p(\\theta_{candidate} )$."
   ]
  },
  {
   "cell_type": "markdown",
   "metadata": {},
   "source": [
    "##### Initialization:\n",
    "1. Pick an arbitrary starting point $\\theta_0$.\n",
    "2. Choose an arbitrary probability density $g(\\theta_{candidate} \\mid \\theta_{current})$ that suggests a candidate for the next sample value $\\theta_{candidate}$ given a previous sample value $\\theta_{current}$. $g(\\theta_{candidate} \\mid \\theta_{current})$ must be symmetric. A usual choice is a Gaussian distribution centered at $\\theta_{current}$. \n",
    "\n",
    "##### Iteration:\n",
    "3. Given the previous sample value $\\theta_{current}$, generate a candidate sample $\\theta_{candidate}$. \n",
    "4. Calculate the acceptance ratio $\\alpha = \\frac{p(x \\mid \\theta_{candidate} )\\,p(\\theta_{candidate} )}{p(x \\mid \\theta_{current} )\\,p(\\theta_{current} )}$.\n",
    "5. If $\\alpha>1$, accept the move. The current sample then becomes $\\theta_{candidate}$. If $\\alpha<1$, accept the move with probability $\\alpha$. If this move is accepted, the next step is $\\theta_{candidate}$, otherwise the step is rejected and the next sample in the sequence is again $\\theta_{current}$.\n",
    "6. Repeat this process until you have collected a sufficient number of samples"
   ]
  },
  {
   "cell_type": "code",
   "execution_count": 80,
   "metadata": {
    "collapsed": false
   },
   "outputs": [
    {
     "name": "stdout",
     "output_type": "stream",
     "text": [
      "Posterior average: 65.6479025955\n",
      "Posterior standard deviation: 0.820106790909\n"
     ]
    },
    {
     "data": {
      "image/png": "[encoded data removed]",
      "text/plain": [
       "<matplotlib.figure.Figure at 0x7f84c3b5e050>"
      ]
     },
     "metadata": {},
     "output_type": "display_data"
    }
   ],
   "source": [
    "mu_prior_mu = 64\n",
    "mu_prior_sd = 2.4\n",
    "known_sd = 2.4\n",
    "\n",
    "## SETUP STEPS:\n",
    "# For our case, the variable x we are trying to determine is the mean\n",
    "# of the distribution. We'll start by choosing some arbitrary mu.\n",
    "mu_current = 60\n",
    "# In order to choose a new point, we need to choose a sampling distribution.\n",
    "# We'll choose a Gaussian centered on the current mu, with a variance of 1.\n",
    "proposal_width = 1\n",
    "# Initialize a list to save our points in.\n",
    "all_samples = []\n",
    "\n",
    "## ITERATIVE STEPS:\n",
    "N_samples = 1000\n",
    "for i in range(N_samples):\n",
    "    # Choose a new potential mu.\n",
    "    mu_proposal = norm(mu_current, proposal_width).rvs()\n",
    "\n",
    "    # Calculate the likelihoods.\n",
    "    likelihood_current = norm(mu_current, known_sd).pdf(sample).prod()\n",
    "    likelihood_proposal = norm(mu_proposal, known_sd).pdf(sample).prod()\n",
    "    # Calculate the prior probabilities.\n",
    "    prior_current = norm(mu_prior_mu, mu_prior_sd).pdf(mu_current)\n",
    "    prior_proposal = norm(mu_prior_mu, mu_prior_sd).pdf(mu_proposal)\n",
    "    # Calculate the nominators of the posteriors.\n",
    "    p_current = likelihood_current * prior_current\n",
    "    p_proposal = likelihood_proposal * prior_proposal\n",
    "    # Calculate the acceptance ratio:\n",
    "    p_accept = p_proposal / p_current\n",
    "\n",
    "    # Accept or reject the move:\n",
    "    accept = np.random.rand() < p_accept\n",
    "    if accept:\n",
    "        mu_current = mu_proposal\n",
    "    all_samples.append(mu_current)\n",
    "\n",
    "## Plot and print the results\n",
    "plt.hist(all_samples, normed=True)\n",
    "plt.plot(x,posterior) # our analytically calculated posterior from above\n",
    "plt.xlabel('heights (inches)')\n",
    "plt.ylabel('probability')\n",
    "posterior_mu = np.mean(all_samples)\n",
    "posterior_sd = np.std(all_samples)\n",
    "print('Posterior average: {0}'.format(posterior_mu))\n",
    "print('Posterior standard deviation: {0}'.format(posterior_sd))"
   ]
  },
  {
   "cell_type": "markdown",
   "metadata": {
    "deletable": true,
    "editable": true
   },
   "source": [
    "### Comparison"
   ]
  },
  {
   "cell_type": "markdown",
   "metadata": {},
   "source": [
    "If the prior and likelihood are known for all hypotheses, then Bayes’ formula computes the posterior exactly. In most cases, the prior probabilities are not known. In this case, we must use statistical inference: we either make up a prior (Bayesian) or do our best using only the likelihood (hypothesis testing). Hypothesis testing only uses conditional distributions of data given specific hypotheses. The assumption is that some hypothesis (parameter specifying the conditional distribution of the data) is true and that the observed data is sampled from that distribution. In particular, hypothesis testing does not depend on estimating the prior.\n",
    "\n",
    "Bayesian inference:\n",
    "* uses probabilities for both hypotheses and data.\n",
    "* depends on the prior and likelihood of observed data.\n",
    "* requires one to know or construct a ‘subjective prior’.\n",
    "* may be computationally intensive due to integration over many parameters.\n",
    "\n",
    "Hypothesis testing:\n",
    "* never uses or gives the probability of a hypothesis (no prior or posterior).\n",
    "* depends on the likelihood $P(x | \\theta)$.\n",
    "* tends to be less computationally intensive."
   ]
  },
  {
   "cell_type": "markdown",
   "metadata": {},
   "source": [
    "*Copyright &copy; 2017 Elizabeth Otto Hamel.  All rights reserved.*"
   ]
  }
 ],
 "metadata": {
  "kernelspec": {
   "display_name": "Python 2",
   "language": "python",
   "name": "python2"
  },
  "language_info": {
   "codemirror_mode": {
    "name": "ipython",
    "version": 2
   },
   "file_extension": ".py",
   "mimetype": "text/x-python",
   "name": "python",
   "nbconvert_exporter": "python",
   "pygments_lexer": "ipython2",
   "version": "2.7.13"
  }
 },
 "nbformat": 4,
 "nbformat_minor": 2
}
